{
 "cells": [
  {
   "cell_type": "code",
   "execution_count": 1,
   "metadata": {},
   "outputs": [],
   "source": [
    "#import tensorflow as tf\n",
    "import numpy as np\n",
    "import pandas as pd\n",
    "import sys\n",
    "sys.path.append('~/PycharmProjects/feedforwardNet/')\n",
    "import ffnet\n",
    "\n",
    "\n",
    "\n",
    "pth = \"/Users/gvalmerbr/Downloads/Music/\"\n",
    "\n",
    "%load_ext autoreload\n",
    "%autoreload 2"
   ]
  },
  {
   "cell_type": "markdown",
   "metadata": {},
   "source": [
    "Read data:"
   ]
  },
  {
   "cell_type": "code",
   "execution_count": 2,
   "metadata": {},
   "outputs": [],
   "source": [
    "data,target,frm,it,desc = ffnet.loadData(pth)\n",
    "data[data != 0] = np.log10(data[data !=0])+9\n",
    "data[data<0]=0"
   ]
  },
  {
   "cell_type": "markdown",
   "metadata": {},
   "source": [
    "Set feed forward network dimensions"
   ]
  },
  {
   "cell_type": "code",
   "execution_count": 53,
   "metadata": {},
   "outputs": [
    {
     "name": "stdout",
     "output_type": "stream",
     "text": [
      "[1707, 800, 400, 348]\n"
     ]
    }
   ],
   "source": [
    "nn_dim = [data.shape[1],800,400,target.shape[1]]\n",
    "print nn_dim"
   ]
  },
  {
   "cell_type": "markdown",
   "metadata": {},
   "source": [
    "Build neural net"
   ]
  },
  {
   "cell_type": "code",
   "execution_count": 4,
   "metadata": {},
   "outputs": [],
   "source": [
    "ffnet.tf.reset_default_graph\n",
    "pred, x, y, hidden = ffnet.create_ffnn(nn_dim)\n",
    "#ffnet.sess.run(ffnet.tf.global_variables_initializer())\n",
    "#p = pred.eval(feed_dict={x:data[0:1,:]})\n",
    "#print p"
   ]
  },
  {
   "cell_type": "markdown",
   "metadata": {},
   "source": [
    "Build cost and set optimizer"
   ]
  },
  {
   "cell_type": "code",
   "execution_count": 5,
   "metadata": {},
   "outputs": [],
   "source": [
    "       # cost = tf.reduce_mean(tf.nn.softmax_cross_entropy_with_logits(logits=pred, labels=y))\n",
    "#pred_do = tf.nn.dropout(pred,0.2)\n",
    "cost = ffnet.tf.losses.mean_squared_error(y, pred)\n",
    "#cost = ffnet.tf.metrics.mean_cosine_distance(y, pred,0)\n",
    "optimizer = ffnet.tf.train.AdamOptimizer(learning_rate=opts['learning_rate']).minimize(cost)"
   ]
  },
  {
   "cell_type": "markdown",
   "metadata": {},
   "source": [
    "initialize and stack up together, pred, cost and optimizer"
   ]
  },
  {
   "cell_type": "code",
   "execution_count": 6,
   "metadata": {},
   "outputs": [],
   "source": [
    "init = ffnet.tf.global_variables_initializer()\n",
    "ffnet.sess.run(init)\n",
    "nnet ={'x':x,'y':y,'cost':cost,'optimizer':optimizer,'pred':pred}"
   ]
  },
  {
   "cell_type": "markdown",
   "metadata": {},
   "source": [
    "Train!"
   ]
  },
  {
   "cell_type": "code",
   "execution_count": 50,
   "metadata": {},
   "outputs": [
    {
     "name": "stdout",
     "output_type": "stream",
     "text": [
      "('Epoch:', '0001', 'cost=', '0.080590429')\n",
      "('Epoch:', '0002', 'cost=', '0.080422875')\n",
      "('Epoch:', '0003', 'cost=', '0.080343070')\n",
      "('Epoch:', '0004', 'cost=', '0.080308039')\n",
      "('Epoch:', '0005', 'cost=', '0.080132953')\n",
      "('Epoch:', '0006', 'cost=', '0.080190864')\n",
      "('Epoch:', '0007', 'cost=', '0.080062681')\n",
      "('Epoch:', '0008', 'cost=', '0.079924947')\n",
      "('Epoch:', '0009', 'cost=', '0.079964977')\n",
      "('Epoch:', '0010', 'cost=', '0.079776429')\n",
      "('Epoch:', '0011', 'cost=', '0.079983770')\n",
      "('Epoch:', '0012', 'cost=', '0.079954421')\n",
      "('Epoch:', '0013', 'cost=', '0.079732589')\n",
      "('Epoch:', '0014', 'cost=', '0.079821763')\n",
      "('Epoch:', '0015', 'cost=', '0.079750260')\n",
      "('Epoch:', '0016', 'cost=', '0.079796460')\n",
      "('Epoch:', '0017', 'cost=', '0.079479087')\n",
      "('Epoch:', '0018', 'cost=', '0.079570973')\n",
      "('Epoch:', '0019', 'cost=', '0.079431440')\n",
      "('Epoch:', '0020', 'cost=', '0.079507327')\n",
      "('Epoch:', '0021', 'cost=', '0.079468719')\n",
      "('Epoch:', '0022', 'cost=', '0.079281094')\n",
      "('Epoch:', '0023', 'cost=', '0.079454506')\n",
      "('Epoch:', '0024', 'cost=', '0.079311895')\n",
      "('Epoch:', '0025', 'cost=', '0.079302499')\n",
      "('Epoch:', '0026', 'cost=', '0.079163555')\n",
      "('Epoch:', '0027', 'cost=', '0.079544005')\n",
      "('Epoch:', '0028', 'cost=', '0.079195651')\n",
      "('Epoch:', '0029', 'cost=', '0.078999683')\n",
      "('Epoch:', '0030', 'cost=', '0.079034999')\n",
      "('Epoch:', '0031', 'cost=', '0.079097088')\n",
      "('Epoch:', '0032', 'cost=', '0.079080484')\n",
      "('Epoch:', '0033', 'cost=', '0.078914591')\n",
      "('Epoch:', '0034', 'cost=', '0.078862128')\n",
      "('Epoch:', '0035', 'cost=', '0.078966754')\n",
      "('Epoch:', '0036', 'cost=', '0.079163535')\n",
      "('Epoch:', '0037', 'cost=', '0.078859795')\n",
      "('Epoch:', '0038', 'cost=', '0.078825367')\n",
      "('Epoch:', '0039', 'cost=', '0.078653511')\n",
      "('Epoch:', '0040', 'cost=', '0.078557217')\n",
      "('Epoch:', '0041', 'cost=', '0.078749049')\n",
      "('Epoch:', '0042', 'cost=', '0.078579293')\n",
      "('Epoch:', '0043', 'cost=', '0.078731037')\n",
      "('Epoch:', '0044', 'cost=', '0.078674260')\n",
      "('Epoch:', '0045', 'cost=', '0.078527076')\n",
      "('Epoch:', '0046', 'cost=', '0.078591063')\n",
      "('Epoch:', '0047', 'cost=', '0.078556255')\n",
      "('Epoch:', '0048', 'cost=', '0.078471355')\n",
      "('Epoch:', '0049', 'cost=', '0.078498867')\n",
      "('Epoch:', '0050', 'cost=', '0.078556762')\n",
      "('Epoch:', '0051', 'cost=', '0.078371458')\n",
      "('Epoch:', '0052', 'cost=', '0.078488108')\n",
      "('Epoch:', '0053', 'cost=', '0.078445319')\n",
      "('Epoch:', '0054', 'cost=', '0.078405335')\n",
      "('Epoch:', '0055', 'cost=', '0.078423540')\n",
      "('Epoch:', '0056', 'cost=', '0.078227318')\n",
      "('Epoch:', '0057', 'cost=', '0.078309187')\n",
      "('Epoch:', '0058', 'cost=', '0.078289290')\n",
      "('Epoch:', '0059', 'cost=', '0.078291000')\n",
      "('Epoch:', '0060', 'cost=', '0.078295962')\n",
      "('Epoch:', '0061', 'cost=', '0.078041759')\n",
      "('Epoch:', '0062', 'cost=', '0.078078346')\n",
      "('Epoch:', '0063', 'cost=', '0.078041992')\n",
      "('Epoch:', '0064', 'cost=', '0.077987470')\n",
      "('Epoch:', '0065', 'cost=', '0.078063004')\n",
      "('Epoch:', '0066', 'cost=', '0.078032036')\n",
      "('Epoch:', '0067', 'cost=', '0.077969307')\n",
      "('Epoch:', '0068', 'cost=', '0.078198543')\n",
      "('Epoch:', '0069', 'cost=', '0.077917368')\n",
      "('Epoch:', '0070', 'cost=', '0.077736897')\n",
      "('Epoch:', '0071', 'cost=', '0.077970315')\n",
      "('Epoch:', '0072', 'cost=', '0.077915209')\n",
      "('Epoch:', '0073', 'cost=', '0.077959930')\n",
      "('Epoch:', '0074', 'cost=', '0.078052280')\n",
      "('Epoch:', '0075', 'cost=', '0.077869611')\n",
      "('Epoch:', '0076', 'cost=', '0.077910292')\n",
      "('Epoch:', '0077', 'cost=', '0.077562138')\n",
      "('Epoch:', '0078', 'cost=', '0.077885084')\n",
      "('Epoch:', '0079', 'cost=', '0.077705060')\n",
      "('Epoch:', '0080', 'cost=', '0.077656538')\n",
      "('Epoch:', '0081', 'cost=', '0.077978128')\n",
      "('Epoch:', '0082', 'cost=', '0.077846467')\n",
      "('Epoch:', '0083', 'cost=', '0.077604317')\n",
      "('Epoch:', '0084', 'cost=', '0.077766734')\n",
      "('Epoch:', '0085', 'cost=', '0.077563597')\n",
      "('Epoch:', '0086', 'cost=', '0.077766943')\n",
      "('Epoch:', '0087', 'cost=', '0.077597391')\n",
      "('Epoch:', '0088', 'cost=', '0.077682293')\n",
      "('Epoch:', '0089', 'cost=', '0.077604733')\n",
      "('Epoch:', '0090', 'cost=', '0.077728572')\n",
      "('Epoch:', '0091', 'cost=', '0.077739020')\n",
      "('Epoch:', '0092', 'cost=', '0.077619925')\n",
      "('Epoch:', '0093', 'cost=', '0.077507272')\n",
      "('Epoch:', '0094', 'cost=', '0.077646455')\n",
      "('Epoch:', '0095', 'cost=', '0.077548810')\n",
      "('Epoch:', '0096', 'cost=', '0.077523397')\n",
      "('Epoch:', '0097', 'cost=', '0.077614017')\n",
      "('Epoch:', '0098', 'cost=', '0.077424832')\n",
      "('Epoch:', '0099', 'cost=', '0.077518814')\n",
      "('Epoch:', '0100', 'cost=', '0.077412742')\n",
      "Optimization Finished!\n"
     ]
    }
   ],
   "source": [
    "opts = {'batch_size': 100,\n",
    " 'display_step': 1,\n",
    " 'learning_rate': 0.001,\n",
    " 'training_epochs': 100}\n",
    "tf = ffnet.nn_train(data,target,nnet,opts)"
   ]
  },
  {
   "cell_type": "code",
   "execution_count": 51,
   "metadata": {},
   "outputs": [
    {
     "name": "stdout",
     "output_type": "stream",
     "text": [
      "('Cost = ', 0.077318676)\n",
      "('max of pred = ', 6.8383079)\n"
     ]
    }
   ],
   "source": [
    "d = data[:,:]\n",
    "p = pred.eval(feed_dict={x: d})\n",
    "\n",
    "c = cost.eval(feed_dict={x: d,y:target[:,:]})\n",
    "print(\"Cost = \",c)\n",
    "print(\"max of pred = \",p.max())\n"
   ]
  },
  {
   "cell_type": "code",
   "execution_count": null,
   "metadata": {},
   "outputs": [],
   "source": [
    "ffnet.sess.run([hidden[1],hidden[2]],feed_dict={x: d})"
   ]
  },
  {
   "cell_type": "code",
   "execution_count": 49,
   "metadata": {
    "scrolled": false
   },
   "outputs": [
    {
     "name": "stdout",
     "output_type": "stream",
     "text": [
      "(array([19773]), array([344]))\n"
     ]
    },
    {
     "data": {
      "image/png": "[encoded data removed]",
      "text/plain": [
       "<matplotlib.figure.Figure at 0x10bc46450>"
      ]
     },
     "metadata": {},
     "output_type": "display_data"
    }
   ],
   "source": [
    "%matplotlib inline\n",
    "import matplotlib.pyplot as plt\n",
    "\n",
    "fig=plt.figure()\n",
    "h=plt.imshow(p,aspect='auto')\n",
    "fig.colorbar(h,orientation='vertical')\n",
    "print np.nonzero(p==p.max())"
   ]
  },
  {
   "cell_type": "code",
   "execution_count": 54,
   "metadata": {},
   "outputs": [
    {
     "name": "stdout",
     "output_type": "stream",
     "text": [
      "(348, 1)\n"
     ]
    },
    {
     "data": {
      "text/html": [
       "<div>\n",
       "<table border=\"1\" class=\"dataframe\">\n",
       "  <thead>\n",
       "    <tr style=\"text-align: right;\">\n",
       "      <th></th>\n",
       "      <th>0</th>\n",
       "    </tr>\n",
       "  </thead>\n",
       "  <tbody>\n",
       "    <tr>\n",
       "      <th>FLORAL</th>\n",
       "      <td>1.737434</td>\n",
       "    </tr>\n",
       "    <tr>\n",
       "      <th>FRUITY</th>\n",
       "      <td>1.104460</td>\n",
       "    </tr>\n",
       "    <tr>\n",
       "      <th>WOODY</th>\n",
       "      <td>0.848302</td>\n",
       "    </tr>\n",
       "    <tr>\n",
       "      <th>MUSK</th>\n",
       "      <td>0.740625</td>\n",
       "    </tr>\n",
       "    <tr>\n",
       "      <th>CITRUS</th>\n",
       "      <td>0.578106</td>\n",
       "    </tr>\n",
       "    <tr>\n",
       "      <th>GREEN</th>\n",
       "      <td>0.484053</td>\n",
       "    </tr>\n",
       "    <tr>\n",
       "      <th>AROMATIC</th>\n",
       "      <td>0.383286</td>\n",
       "    </tr>\n",
       "    <tr>\n",
       "      <th>ALDEHYDIC</th>\n",
       "      <td>0.240128</td>\n",
       "    </tr>\n",
       "    <tr>\n",
       "      <th>POWDERY</th>\n",
       "      <td>0.219602</td>\n",
       "    </tr>\n",
       "    <tr>\n",
       "      <th>ROSE</th>\n",
       "      <td>0.203341</td>\n",
       "    </tr>\n",
       "    <tr>\n",
       "      <th>AMBER</th>\n",
       "      <td>0.164675</td>\n",
       "    </tr>\n",
       "    <tr>\n",
       "      <th>ORIENTAL</th>\n",
       "      <td>0.158148</td>\n",
       "    </tr>\n",
       "    <tr>\n",
       "      <th>SPICY</th>\n",
       "      <td>0.156838</td>\n",
       "    </tr>\n",
       "    <tr>\n",
       "      <th>WATERY</th>\n",
       "      <td>0.150613</td>\n",
       "    </tr>\n",
       "    <tr>\n",
       "      <th>HERBAL</th>\n",
       "      <td>0.149606</td>\n",
       "    </tr>\n",
       "    <tr>\n",
       "      <th>VANILLA</th>\n",
       "      <td>0.145845</td>\n",
       "    </tr>\n",
       "    <tr>\n",
       "      <th>MUGUET</th>\n",
       "      <td>0.127705</td>\n",
       "    </tr>\n",
       "    <tr>\n",
       "      <th>WHITE_FLOWERS</th>\n",
       "      <td>0.121209</td>\n",
       "    </tr>\n",
       "  </tbody>\n",
       "</table>\n",
       "</div>"
      ],
      "text/plain": [
       "                      0\n",
       "FLORAL         1.737434\n",
       "FRUITY         1.104460\n",
       "WOODY          0.848302\n",
       "MUSK           0.740625\n",
       "CITRUS         0.578106\n",
       "GREEN          0.484053\n",
       "AROMATIC       0.383286\n",
       "ALDEHYDIC      0.240128\n",
       "POWDERY        0.219602\n",
       "ROSE           0.203341\n",
       "AMBER          0.164675\n",
       "ORIENTAL       0.158148\n",
       "SPICY          0.156838\n",
       "WATERY         0.150613\n",
       "HERBAL         0.149606\n",
       "VANILLA        0.145845\n",
       "MUGUET         0.127705\n",
       "WHITE_FLOWERS  0.121209"
      ]
     },
     "execution_count": 54,
     "metadata": {},
     "output_type": "execute_result"
    }
   ],
   "source": [
    "r = pd.DataFrame(np.transpose(p[10000]),index=desc)\n",
    "print r.shape\n",
    "r.nlargest(18,0)"
   ]
  },
  {
   "cell_type": "code",
   "execution_count": null,
   "metadata": {},
   "outputs": [],
   "source": [
    "r = pd.DataFrame(np.transpose(target[10000]),index=desc)\n",
    "print r.shape\n",
    "r.nlargest(3,0)"
   ]
  },
  {
   "cell_type": "code",
   "execution_count": 12,
   "metadata": {},
   "outputs": [
    {
     "ename": "AttributeError",
     "evalue": "'module' object has no attribute 'get'",
     "output_type": "error",
     "traceback": [
      "\u001b[0;31m---------------------------------------------------------------------------\u001b[0m",
      "\u001b[0;31mAttributeError\u001b[0m                            Traceback (most recent call last)",
      "\u001b[0;32m<ipython-input-12-4254db6a73f1>\u001b[0m in \u001b[0;36m<module>\u001b[0;34m()\u001b[0m\n\u001b[1;32m      1\u001b[0m \u001b[0mcol\u001b[0m \u001b[0;34m=\u001b[0m\u001b[0mffnet\u001b[0m\u001b[0;34m.\u001b[0m\u001b[0mtf\u001b[0m\u001b[0;34m.\u001b[0m\u001b[0mget_collection\u001b[0m\u001b[0;34m(\u001b[0m\u001b[0mffnet\u001b[0m\u001b[0;34m.\u001b[0m\u001b[0mtf\u001b[0m\u001b[0;34m.\u001b[0m\u001b[0mGraphKeys\u001b[0m\u001b[0;34m.\u001b[0m\u001b[0mTRAINABLE_VARIABLES\u001b[0m\u001b[0;34m)\u001b[0m\u001b[0;34m\u001b[0m\u001b[0m\n\u001b[0;32m----> 2\u001b[0;31m \u001b[0mtf\u001b[0m\u001b[0;34m.\u001b[0m\u001b[0mget\u001b[0m\u001b[0;34m\u001b[0m\u001b[0m\n\u001b[0m",
      "\u001b[0;31mAttributeError\u001b[0m: 'module' object has no attribute 'get'"
     ]
    }
   ],
   "source": [
    "col =ffnet.tf.get_collection(ffnet.tf.GraphKeys.TRAINABLE_VARIABLES)\n",
    "tf.get"
   ]
  },
  {
   "cell_type": "code",
   "execution_count": null,
   "metadata": {},
   "outputs": [],
   "source": [
    "for tensor in col:\n",
    "    print tensor\n"
   ]
  },
  {
   "cell_type": "code",
   "execution_count": null,
   "metadata": {},
   "outputs": [],
   "source": [
    "l1 = col[0]\n",
    "print l1"
   ]
  },
  {
   "cell_type": "code",
   "execution_count": null,
   "metadata": {},
   "outputs": [],
   "source": [
    "v =l1.read_value()"
   ]
  },
  {
   "cell_type": "code",
   "execution_count": null,
   "metadata": {},
   "outputs": [],
   "source": [
    "v.shape"
   ]
  },
  {
   "cell_type": "code",
   "execution_count": null,
   "metadata": {},
   "outputs": [],
   "source": [
    "print v\n"
   ]
  },
  {
   "cell_type": "code",
   "execution_count": null,
   "metadata": {},
   "outputs": [],
   "source": [
    "print ffnet.getSlice(data,target,10)"
   ]
  },
  {
   "cell_type": "code",
   "execution_count": null,
   "metadata": {
    "collapsed": true
   },
   "outputs": [],
   "source": []
  },
  {
   "cell_type": "code",
   "execution_count": null,
   "metadata": {},
   "outputs": [],
   "source": [
    "e =target-p\n",
    "me =sum(sum(e**2))/e.shape[0]\n",
    "print me"
   ]
  },
  {
   "cell_type": "code",
   "execution_count": null,
   "metadata": {},
   "outputs": [],
   "source": [
    "print hidden\n"
   ]
  },
  {
   "cell_type": "code",
   "execution_count": null,
   "metadata": {
    "collapsed": true
   },
   "outputs": [],
   "source": []
  }
 ],
 "metadata": {
  "kernelspec": {
   "display_name": "Python 2",
   "language": "python",
   "name": "python2"
  },
  "language_info": {
   "codemirror_mode": {
    "name": "ipython",
    "version": 2
   },
   "file_extension": ".py",
   "mimetype": "text/x-python",
   "name": "python",
   "nbconvert_exporter": "python",
   "pygments_lexer": "ipython2",
   "version": "2.7.10"
  }
 },
 "nbformat": 4,
 "nbformat_minor": 2
}
