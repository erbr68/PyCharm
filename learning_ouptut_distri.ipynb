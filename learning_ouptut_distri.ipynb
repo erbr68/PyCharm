{
  "nbformat": 4,
  "nbformat_minor": 0,
  "metadata": {
    "colab": {
      "name": "learning_ouptut_distri.ipynb",
      "version": "0.3.2",
      "provenance": [],
      "collapsed_sections": [],
      "include_colab_link": true
    },
    "kernelspec": {
      "name": "python3",
      "display_name": "Python 3"
    },
    "accelerator": "GPU"
  },
  "cells": [
    {
      "cell_type": "markdown",
      "metadata": {
        "id": "view-in-github",
        "colab_type": "text"
      },
      "source": [
        "<a href=\"https://colab.research.google.com/github/erbr68/PyCharm/blob/master/learning_ouptut_distri.ipynb\" target=\"_parent\"><img src=\"https://colab.research.google.com/assets/colab-badge.svg\" alt=\"Open In Colab\"/></a>"
      ]
    },
    {
      "metadata": {
        "id": "eYnU_PMhKPvV",
        "colab_type": "code",
        "colab": {}
      },
      "cell_type": "code",
      "source": [
        "import tensorflow as tf\n",
        "import tensorflow.contrib.eager as tfe\n",
        "import pandas as pd\n",
        "import numpy as np\n",
        "tf.enable_eager_execution()"
      ],
      "execution_count": 0,
      "outputs": []
    },
    {
      "metadata": {
        "id": "G0RKhMEuKlch",
        "colab_type": "code",
        "colab": {
          "base_uri": "https://localhost:8080/",
          "height": 34
        },
        "outputId": "a07c639b-beec-4d5b-e61c-2c473b02789a"
      },
      "cell_type": "code",
      "source": [
        "from tensorflow.python.client import device_lib\n",
        "\n",
        "def get_available_gpus():\n",
        "    local_device_protos = device_lib.list_local_devices()\n",
        "    return [x.name for x in local_device_protos if x.device_type == 'GPU']\n",
        "  \n",
        "get_available_gpus()  "
      ],
      "execution_count": 49,
      "outputs": [
        {
          "output_type": "execute_result",
          "data": {
            "text/plain": [
              "['/device:GPU:0']"
            ]
          },
          "metadata": {
            "tags": []
          },
          "execution_count": 49
        }
      ]
    },
    {
      "metadata": {
        "id": "RDkJTT39WTXg",
        "colab_type": "code",
        "colab": {
          "base_uri": "https://localhost:8080/",
          "height": 34
        },
        "outputId": "59600d96-a379-4d5b-8e1a-114d1abfee23"
      },
      "cell_type": "code",
      "source": [
        "#evenly spaced points on circle\n",
        "r = 1\n",
        "n = 6\n",
        "teta = [2*j*np.pi/n for j in range(n)]\n",
        "print (teta)"
      ],
      "execution_count": 50,
      "outputs": [
        {
          "output_type": "stream",
          "text": [
            "[0.0, 1.0471975511965976, 2.0943951023931953, 3.141592653589793, 4.1887902047863905, 5.235987755982989]\n"
          ],
          "name": "stdout"
        }
      ]
    },
    {
      "metadata": {
        "id": "7BY4wuGiKqtH",
        "colab_type": "code",
        "colab": {
          "base_uri": "https://localhost:8080/",
          "height": 34
        },
        "outputId": "b2142e4b-a3f1-4ef5-845c-f017a63909ab"
      },
      "cell_type": "code",
      "source": [
        "def draw_data(alpha):\n",
        "   x = [r*np.cos(alpha),r*np.sin(alpha)]\n",
        "   return np.random.normal(x,0.1)  \n",
        "\n",
        "#normaly distributed point around circle points\n",
        "m=int(5e3)\n",
        "\n",
        "p=[]\n",
        "inpt=[]\n",
        "for i in range(m):\n",
        "    kk = np.random.randint(n)\n",
        "    t = teta[kk] #+ np.random.normal(0,2*np.pi/(n))  \n",
        "    inpt.append(t)\n",
        "    p.append(draw_data(t)  )\n",
        "    \n",
        "print (np.unique(inpt))"
      ],
      "execution_count": 51,
      "outputs": [
        {
          "output_type": "stream",
          "text": [
            "[0.         1.04719755 2.0943951  3.14159265 4.1887902  5.23598776]\n"
          ],
          "name": "stdout"
        }
      ]
    },
    {
      "metadata": {
        "id": "ca5uvuavWV6H",
        "colab_type": "code",
        "colab": {
          "base_uri": "https://localhost:8080/",
          "height": 347
        },
        "outputId": "d25d3455-7df3-4413-dcfb-9544bb0c96d2"
      },
      "cell_type": "code",
      "source": [
        "import matplotlib.pyplot as plt\n",
        "plt.scatter(*zip(*p))\n",
        "plt.plot(np.cos(inpt),[0]*len(inpt),'r')\n",
        "plt.show()"
      ],
      "execution_count": 52,
      "outputs": [
        {
          "output_type": "display_data",
          "data": {
            "image/png": "[encoded data removed]",
            "text/plain": [
              "<matplotlib.figure.Figure at 0x7f6dc0a82f98>"
            ]
          },
          "metadata": {
            "tags": []
          }
        }
      ]
    },
    {
      "metadata": {
        "id": "YZoQE7tMs58P",
        "colab_type": "code",
        "colab": {}
      },
      "cell_type": "code",
      "source": [
        ""
      ],
      "execution_count": 0,
      "outputs": []
    },
    {
      "metadata": {
        "id": "CtjJzBR8cn3H",
        "colab_type": "code",
        "colab": {
          "base_uri": "https://localhost:8080/",
          "height": 51
        },
        "outputId": "eb688fd4-874d-41c1-9b69-96d39c071d43"
      },
      "cell_type": "code",
      "source": [
        "with tf.device('/gpu:0'):\n",
        "  dataset = tf.data.Dataset.from_tensor_slices( (np.expand_dims(np.array(inpt,dtype=np.float32),axis=1),  np.array(p,dtype=np.float32))).batch(256).repeat()\n",
        "print(dataset)\n",
        "features, labels = next(iter(dataset))\n",
        "print (np.unique(features))"
      ],
      "execution_count": 53,
      "outputs": [
        {
          "output_type": "stream",
          "text": [
            "<RepeatDataset shapes: ((?, 1), (?, 2)), types: (tf.float32, tf.float32)>\n",
            "[0.        1.0471976 2.0943952 3.1415927 4.1887903 5.2359877]\n"
          ],
          "name": "stdout"
        }
      ]
    },
    {
      "metadata": {
        "id": "uY4z6LhVLtPq",
        "colab_type": "code",
        "colab": {}
      },
      "cell_type": "code",
      "source": [
        "\n",
        "class pymodel(tf.keras.Model):\n",
        "    def __init__(self,encoder_dim =[10],decoder_dim =[10],activation = tf.nn.relu):\n",
        "      super(pymodel,self).__init__()\n",
        "      with tf.device('/gpu:0'):\n",
        "        \n",
        "        \n",
        "        self.encode_mu = tf.keras.Sequential()\n",
        "        for ll in encoder_dim:\n",
        "          self.encode_mu.add(tf.keras.layers.Dense(units=ll,activation=activation))\n",
        "          self.encode_mu.add(tf.keras.layers.BatchNormalization())\n",
        "          \n",
        "      \n",
        "        self.encode_logvar = tf.keras.Sequential()\n",
        "        for ll in encoder_dim:\n",
        "          self.encode_logvar.add(tf.keras.layers.Dense(units=ll,activation=activation))\n",
        "          self.encode_mu.add(tf.keras.layers.BatchNormalization())\n",
        "        \n",
        "        self.decoder= tf.keras.Sequential()\n",
        "        for ll in decoder_dim:\n",
        "            self.decoder.add(tf.keras.layers.Dense(units=ll,activation=tf.nn.tanh))\n",
        "            self.encode_mu.add(tf.keras.layers.BatchNormalization())\n",
        "                                         \n",
        "        self.outlayer = tf.keras.layers.Dense(units=2)\n",
        "    \n",
        "    \n",
        "    def get_latent(self,input):\n",
        "      mu = self.encode_mu(input)\n",
        "      log_var = self.encode_logvar(input)\n",
        "      return mu,log_var\n",
        "    \n",
        "    def decode(self,z):\n",
        "      return self.outlayer(self.decoder(z))\n",
        "    \n",
        "    def add_noise(self,mu,log_var):\n",
        "      with tf.device('/gpu:0'):\n",
        "        return mu + tf.exp(log_var / 2) *  tf.random_normal(tf.shape(mu)) #tf.shape(mu)\n",
        "      \n",
        "    def cond_latent(self,input):\n",
        "      z_mu,z_log_var = model.get_latent(input)\n",
        "      z = self.add_noise(z_mu,z_log_var)\n",
        "      return tf.concat([input,z],axis=1),z_mu,z_log_var\n",
        "    \n",
        "    def call(self, input):\n",
        "      \"\"\"Actually runs the model.\"\"\"\n",
        "      #mu,log_var = self.get_latent(input)\n",
        "      #z = self.add_noise(mu,log_var)\n",
        "      #return self.decode(z)\n",
        "      x,_,_ =self.cond_latent(input)\n",
        "      return self.decode(x)\n",
        "    \n",
        "    def noise_free(self, input):\n",
        "      \"\"\"Actually runs the model.\"\"\"\n",
        "      mu,log_var = self.get_latent(input)\n",
        "      #z = self.add_noise(mu,log_var)\n",
        "      return self.decode(tf.concat([input,mu],axis=1))\n",
        "      \n",
        "    \n",
        "    \n",
        "    \n",
        "   \n",
        "    \n",
        " \n",
        "model =pymodel(encoder_dim = [4,16],decoder_dim = [4])\n",
        "model.get_latent = tf.contrib.eager.defun(model.get_latent) \n",
        "model.add_noise = tf.contrib.eager.defun(model.add_noise) \n",
        "model.decode = tf.contrib.eager.defun(model.decode) \n",
        "#model =tf.contrib.eager.defun(pymodel)  "
      ],
      "execution_count": 0,
      "outputs": []
    },
    {
      "metadata": {
        "id": "HZVSnBvkWenp",
        "colab_type": "code",
        "colab": {
          "base_uri": "https://localhost:8080/",
          "height": 34
        },
        "outputId": "05e5f130-d47d-4987-f035-35ee7607d503"
      },
      "cell_type": "code",
      "source": [
        "def lossF(model,features,labels):\n",
        "  with tf.device('/gpu:0'):\n",
        "    #z_mu,z_log_var = model.get_latent(features)\n",
        "    #out = model.decode(model.add_noise(z_mu,z_log_var))\n",
        "    x,z_mu,z_log_var = model.cond_latent(features)\n",
        "    out =model.decode(x)\n",
        "    mse = tf.losses.mean_squared_error(labels=labels,predictions=out)\n",
        "    kl = 0.5 * tf.reduce_mean(tf.exp(z_log_var) + z_mu**2 - 1. - z_log_var)\n",
        "    #kl = tf.reduce_mean(tf.exp(z_log_var))\n",
        "    return mse + .001*kl\n",
        "  \n",
        "lossF  =tf.contrib.eager.defun(lossF)  \n",
        "print ( lossF(model,features,labels))"
      ],
      "execution_count": 96,
      "outputs": [
        {
          "output_type": "stream",
          "text": [
            "tf.Tensor(1.36281, shape=(), dtype=float32)\n"
          ],
          "name": "stdout"
        }
      ]
    },
    {
      "metadata": {
        "id": "gBIIQWgWWgm4",
        "colab_type": "code",
        "colab": {
          "base_uri": "https://localhost:8080/",
          "height": 34
        },
        "outputId": "5b5460b1-7a26-4662-a052-94cc7317889d"
      },
      "cell_type": "code",
      "source": [
        "#def grad(model, inputs, targets):\n",
        " # with tf.GradientTape() as tape:\n",
        "#    loss_value = lossF(model,inputs,targets)\n",
        "#  return tape.gradient(loss_value, model.variables)\n",
        "\n",
        "#print ( grad(model,features,labels))\n",
        "print(features.shape[0])"
      ],
      "execution_count": 97,
      "outputs": [
        {
          "output_type": "stream",
          "text": [
            "256\n"
          ],
          "name": "stdout"
        }
      ]
    },
    {
      "metadata": {
        "id": "ni1JKcUWWiDI",
        "colab_type": "code",
        "colab": {}
      },
      "cell_type": "code",
      "source": [
        "with tf.device('/gpu:0'):\n",
        "  solver = tf.train.AdamOptimizer()\n",
        "#solver.minimize = tf.contrib.eager.defun(solver.minimize)"
      ],
      "execution_count": 0,
      "outputs": []
    },
    {
      "metadata": {
        "id": "OxmzeCWYrtdx",
        "colab_type": "code",
        "colab": {
          "base_uri": "https://localhost:8080/",
          "height": 4505
        },
        "outputId": "2f6842ed-b07c-4998-fa00-b37beb47404b"
      },
      "cell_type": "code",
      "source": [
        "for i in range(int(5e3)):\n",
        "  #grads = grad(model,features,labels)\n",
        "  #solver.apply_gradients(zip(grads, model.variables),\n",
        "  #                          global_step=tf.train.get_or_create_global_step())\n",
        "  solver.minimize(lambda: lossF(model,features,labels),global_step =tf.train.get_or_create_global_step())\n",
        "  \n",
        "  if i%int(5000/int(features.shape[0])) == 0:\n",
        "    print (\"Loss at step {:06d}: {:.5f}\".format(i, lossF(model, features, labels)))\n",
        "\n",
        "  "
      ],
      "execution_count": 99,
      "outputs": [
        {
          "output_type": "stream",
          "text": [
            "Loss at step 000000: 1.30364\n",
            "Loss at step 000019: 1.33145\n",
            "Loss at step 000038: 0.99152\n",
            "Loss at step 000057: 1.01362\n",
            "Loss at step 000076: 0.92268\n",
            "Loss at step 000095: 0.75761\n",
            "Loss at step 000114: 0.69997\n",
            "Loss at step 000133: 0.63507\n",
            "Loss at step 000152: 0.67258\n",
            "Loss at step 000171: 0.58057\n",
            "Loss at step 000190: 0.51371\n",
            "Loss at step 000209: 0.54399\n",
            "Loss at step 000228: 0.50391\n",
            "Loss at step 000247: 0.49665\n",
            "Loss at step 000266: 0.46759\n",
            "Loss at step 000285: 0.46275\n",
            "Loss at step 000304: 0.43599\n",
            "Loss at step 000323: 0.42285\n",
            "Loss at step 000342: 0.39801\n",
            "Loss at step 000361: 0.37865\n",
            "Loss at step 000380: 0.35792\n",
            "Loss at step 000399: 0.35677\n",
            "Loss at step 000418: 0.32039\n",
            "Loss at step 000437: 0.29865\n",
            "Loss at step 000456: 0.27825\n",
            "Loss at step 000475: 0.26547\n",
            "Loss at step 000494: 0.24286\n",
            "Loss at step 000513: 0.22571\n",
            "Loss at step 000532: 0.21696\n",
            "Loss at step 000551: 0.20865\n",
            "Loss at step 000570: 0.20662\n",
            "Loss at step 000589: 0.21019\n",
            "Loss at step 000608: 0.18526\n",
            "Loss at step 000627: 0.17220\n",
            "Loss at step 000646: 0.17049\n",
            "Loss at step 000665: 0.15329\n",
            "Loss at step 000684: 0.14788\n",
            "Loss at step 000703: 0.13648\n",
            "Loss at step 000722: 0.14010\n",
            "Loss at step 000741: 0.14090\n",
            "Loss at step 000760: 0.13577\n",
            "Loss at step 000779: 0.13500\n",
            "Loss at step 000798: 0.13322\n",
            "Loss at step 000817: 0.13183\n",
            "Loss at step 000836: 0.12838\n",
            "Loss at step 000855: 0.12510\n",
            "Loss at step 000874: 0.12639\n",
            "Loss at step 000893: 0.13196\n",
            "Loss at step 000912: 0.12270\n",
            "Loss at step 000931: 0.12100\n",
            "Loss at step 000950: 0.11947\n",
            "Loss at step 000969: 0.12508\n",
            "Loss at step 000988: 0.11275\n",
            "Loss at step 001007: 0.11216\n",
            "Loss at step 001026: 0.11091\n",
            "Loss at step 001045: 0.11319\n",
            "Loss at step 001064: 0.11292\n",
            "Loss at step 001083: 0.11291\n",
            "Loss at step 001102: 0.10994\n",
            "Loss at step 001121: 0.11098\n",
            "Loss at step 001140: 0.11237\n",
            "Loss at step 001159: 0.11311\n",
            "Loss at step 001178: 0.09994\n",
            "Loss at step 001197: 0.10600\n",
            "Loss at step 001216: 0.10572\n",
            "Loss at step 001235: 0.09877\n",
            "Loss at step 001254: 0.10024\n",
            "Loss at step 001273: 0.10314\n",
            "Loss at step 001292: 0.09906\n",
            "Loss at step 001311: 0.09893\n",
            "Loss at step 001330: 0.09661\n",
            "Loss at step 001349: 0.09775\n",
            "Loss at step 001368: 0.09769\n",
            "Loss at step 001387: 0.09619\n",
            "Loss at step 001406: 0.09248\n",
            "Loss at step 001425: 0.08951\n",
            "Loss at step 001444: 0.09045\n",
            "Loss at step 001463: 0.08456\n",
            "Loss at step 001482: 0.08495\n",
            "Loss at step 001501: 0.08669\n",
            "Loss at step 001520: 0.08353\n",
            "Loss at step 001539: 0.08104\n",
            "Loss at step 001558: 0.07513\n",
            "Loss at step 001577: 0.08423\n",
            "Loss at step 001596: 0.07908\n",
            "Loss at step 001615: 0.07673\n",
            "Loss at step 001634: 0.07550\n",
            "Loss at step 001653: 0.07003\n",
            "Loss at step 001672: 0.07267\n",
            "Loss at step 001691: 0.06750\n",
            "Loss at step 001710: 0.07290\n",
            "Loss at step 001729: 0.06587\n",
            "Loss at step 001748: 0.06545\n",
            "Loss at step 001767: 0.06347\n",
            "Loss at step 001786: 0.06484\n",
            "Loss at step 001805: 0.06321\n",
            "Loss at step 001824: 0.06310\n",
            "Loss at step 001843: 0.05717\n",
            "Loss at step 001862: 0.05800\n",
            "Loss at step 001881: 0.05967\n",
            "Loss at step 001900: 0.05910\n",
            "Loss at step 001919: 0.05821\n",
            "Loss at step 001938: 0.05895\n",
            "Loss at step 001957: 0.05605\n",
            "Loss at step 001976: 0.05607\n",
            "Loss at step 001995: 0.05504\n",
            "Loss at step 002014: 0.05332\n",
            "Loss at step 002033: 0.05038\n",
            "Loss at step 002052: 0.05239\n",
            "Loss at step 002071: 0.04958\n",
            "Loss at step 002090: 0.05288\n",
            "Loss at step 002109: 0.04937\n",
            "Loss at step 002128: 0.05046\n",
            "Loss at step 002147: 0.04865\n",
            "Loss at step 002166: 0.04763\n",
            "Loss at step 002185: 0.04863\n",
            "Loss at step 002204: 0.04595\n",
            "Loss at step 002223: 0.05123\n",
            "Loss at step 002242: 0.04652\n",
            "Loss at step 002261: 0.04880\n",
            "Loss at step 002280: 0.04591\n",
            "Loss at step 002299: 0.04473\n",
            "Loss at step 002318: 0.04502\n",
            "Loss at step 002337: 0.04243\n",
            "Loss at step 002356: 0.04220\n",
            "Loss at step 002375: 0.04277\n",
            "Loss at step 002394: 0.04416\n",
            "Loss at step 002413: 0.04340\n",
            "Loss at step 002432: 0.04098\n",
            "Loss at step 002451: 0.04263\n",
            "Loss at step 002470: 0.04081\n",
            "Loss at step 002489: 0.04224\n",
            "Loss at step 002508: 0.04068\n",
            "Loss at step 002527: 0.04086\n",
            "Loss at step 002546: 0.04081\n",
            "Loss at step 002565: 0.04065\n",
            "Loss at step 002584: 0.03898\n",
            "Loss at step 002603: 0.03919\n",
            "Loss at step 002622: 0.03895\n",
            "Loss at step 002641: 0.04039\n",
            "Loss at step 002660: 0.03771\n",
            "Loss at step 002679: 0.03963\n",
            "Loss at step 002698: 0.03810\n",
            "Loss at step 002717: 0.03673\n",
            "Loss at step 002736: 0.03771\n",
            "Loss at step 002755: 0.03810\n",
            "Loss at step 002774: 0.03742\n",
            "Loss at step 002793: 0.03621\n",
            "Loss at step 002812: 0.03551\n",
            "Loss at step 002831: 0.03437\n",
            "Loss at step 002850: 0.03795\n",
            "Loss at step 002869: 0.03496\n",
            "Loss at step 002888: 0.03611\n",
            "Loss at step 002907: 0.03623\n",
            "Loss at step 002926: 0.03534\n",
            "Loss at step 002945: 0.03890\n",
            "Loss at step 002964: 0.03855\n",
            "Loss at step 002983: 0.03486\n",
            "Loss at step 003002: 0.03376\n",
            "Loss at step 003021: 0.03359\n",
            "Loss at step 003040: 0.03429\n",
            "Loss at step 003059: 0.03506\n",
            "Loss at step 003078: 0.03415\n",
            "Loss at step 003097: 0.03508\n",
            "Loss at step 003116: 0.03266\n",
            "Loss at step 003135: 0.03264\n",
            "Loss at step 003154: 0.03277\n",
            "Loss at step 003173: 0.03199\n",
            "Loss at step 003192: 0.03380\n",
            "Loss at step 003211: 0.03154\n",
            "Loss at step 003230: 0.03164\n",
            "Loss at step 003249: 0.03401\n",
            "Loss at step 003268: 0.03178\n",
            "Loss at step 003287: 0.03145\n",
            "Loss at step 003306: 0.03096\n",
            "Loss at step 003325: 0.03050\n",
            "Loss at step 003344: 0.02991\n",
            "Loss at step 003363: 0.03205\n",
            "Loss at step 003382: 0.03057\n",
            "Loss at step 003401: 0.02861\n",
            "Loss at step 003420: 0.02969\n",
            "Loss at step 003439: 0.03119\n",
            "Loss at step 003458: 0.02972\n",
            "Loss at step 003477: 0.02929\n",
            "Loss at step 003496: 0.02894\n",
            "Loss at step 003515: 0.02967\n",
            "Loss at step 003534: 0.02876\n",
            "Loss at step 003553: 0.02703\n",
            "Loss at step 003572: 0.02944\n",
            "Loss at step 003591: 0.03118\n",
            "Loss at step 003610: 0.02713\n",
            "Loss at step 003629: 0.02892\n",
            "Loss at step 003648: 0.02861\n",
            "Loss at step 003667: 0.02631\n",
            "Loss at step 003686: 0.02758\n",
            "Loss at step 003705: 0.02910\n",
            "Loss at step 003724: 0.02977\n",
            "Loss at step 003743: 0.02721\n",
            "Loss at step 003762: 0.02736\n",
            "Loss at step 003781: 0.02658\n",
            "Loss at step 003800: 0.02642\n",
            "Loss at step 003819: 0.02643\n",
            "Loss at step 003838: 0.02667\n",
            "Loss at step 003857: 0.02612\n",
            "Loss at step 003876: 0.02713\n",
            "Loss at step 003895: 0.02632\n",
            "Loss at step 003914: 0.02727\n",
            "Loss at step 003933: 0.02587\n",
            "Loss at step 003952: 0.02766\n",
            "Loss at step 003971: 0.02510\n",
            "Loss at step 003990: 0.02425\n",
            "Loss at step 004009: 0.02597\n",
            "Loss at step 004028: 0.02565\n",
            "Loss at step 004047: 0.02368\n",
            "Loss at step 004066: 0.02517\n",
            "Loss at step 004085: 0.02657\n",
            "Loss at step 004104: 0.02614\n",
            "Loss at step 004123: 0.02677\n",
            "Loss at step 004142: 0.02559\n",
            "Loss at step 004161: 0.02548\n",
            "Loss at step 004180: 0.02658\n",
            "Loss at step 004199: 0.02497\n",
            "Loss at step 004218: 0.02589\n",
            "Loss at step 004237: 0.02487\n",
            "Loss at step 004256: 0.02290\n",
            "Loss at step 004275: 0.02298\n",
            "Loss at step 004294: 0.02424\n",
            "Loss at step 004313: 0.02553\n",
            "Loss at step 004332: 0.02289\n",
            "Loss at step 004351: 0.02465\n",
            "Loss at step 004370: 0.02465\n",
            "Loss at step 004389: 0.02503\n",
            "Loss at step 004408: 0.02671\n",
            "Loss at step 004427: 0.02330\n",
            "Loss at step 004446: 0.02379\n",
            "Loss at step 004465: 0.02523\n",
            "Loss at step 004484: 0.02388\n",
            "Loss at step 004503: 0.02730\n",
            "Loss at step 004522: 0.02402\n",
            "Loss at step 004541: 0.02329\n",
            "Loss at step 004560: 0.02424\n",
            "Loss at step 004579: 0.02391\n",
            "Loss at step 004598: 0.02385\n",
            "Loss at step 004617: 0.02472\n",
            "Loss at step 004636: 0.02206\n",
            "Loss at step 004655: 0.02408\n",
            "Loss at step 004674: 0.02440\n",
            "Loss at step 004693: 0.02398\n",
            "Loss at step 004712: 0.02421\n",
            "Loss at step 004731: 0.02531\n",
            "Loss at step 004750: 0.02275\n",
            "Loss at step 004769: 0.02434\n",
            "Loss at step 004788: 0.02300\n",
            "Loss at step 004807: 0.02242\n",
            "Loss at step 004826: 0.02195\n",
            "Loss at step 004845: 0.02412\n",
            "Loss at step 004864: 0.02282\n",
            "Loss at step 004883: 0.02426\n",
            "Loss at step 004902: 0.02286\n",
            "Loss at step 004921: 0.02259\n",
            "Loss at step 004940: 0.02384\n",
            "Loss at step 004959: 0.02358\n",
            "Loss at step 004978: 0.02349\n",
            "Loss at step 004997: 0.02257\n"
          ],
          "name": "stdout"
        }
      ]
    },
    {
      "metadata": {
        "id": "UoRK5nIMULnM",
        "colab_type": "code",
        "colab": {
          "base_uri": "https://localhost:8080/",
          "height": 34
        },
        "outputId": "e54d8fa7-dde9-4809-faa2-cd9b759a81e3"
      },
      "cell_type": "code",
      "source": [
        "print(i)"
      ],
      "execution_count": 100,
      "outputs": [
        {
          "output_type": "stream",
          "text": [
            "4999\n"
          ],
          "name": "stdout"
        }
      ]
    },
    {
      "metadata": {
        "id": "5n4TXaqaEKT_",
        "colab_type": "code",
        "colab": {
          "base_uri": "https://localhost:8080/",
          "height": 68
        },
        "outputId": "d28c950a-95dd-4bab-ea53-5898ef2ef325"
      },
      "cell_type": "code",
      "source": [
        "w= np.random.randint(low = 0,high = n,size =[5000,1]).astype(np.float32) * 2 * np.pi/n\n",
        "print(w.shape),print(np.unique(w))"
      ],
      "execution_count": 101,
      "outputs": [
        {
          "output_type": "stream",
          "text": [
            "(5000, 1)\n",
            "[0.        1.0471976 2.0943952 3.1415927 4.1887903 5.235988 ]\n"
          ],
          "name": "stdout"
        },
        {
          "output_type": "execute_result",
          "data": {
            "text/plain": [
              "(None, None)"
            ]
          },
          "metadata": {
            "tags": []
          },
          "execution_count": 101
        }
      ]
    },
    {
      "metadata": {
        "id": "seVGh0xfIJjm",
        "colab_type": "code",
        "colab": {}
      },
      "cell_type": "code",
      "source": [
        "y = model(tf.constant(w))\n"
      ],
      "execution_count": 0,
      "outputs": []
    },
    {
      "metadata": {
        "id": "hNuLIrRZIc8L",
        "colab_type": "code",
        "colab": {
          "base_uri": "https://localhost:8080/",
          "height": 347
        },
        "outputId": "ec45daae-f248-4172-b41b-16c9878a5139"
      },
      "cell_type": "code",
      "source": [
        "\n",
        "z =draw_data(w)\n",
        "plt.scatter(z[0,:],z[1,:],c=w,cmap = \"plasma\",alpha=0.01)\n",
        "ax = plt.scatter(y[:,0],y[:,1],c=w.flatten(),cmap = \"plasma\")\n"
      ],
      "execution_count": 103,
      "outputs": [
        {
          "output_type": "display_data",
          "data": {
            "image/png": "[encoded data removed]",
            "text/plain": [
              "<matplotlib.figure.Figure at 0x7f6da025fe10>"
            ]
          },
          "metadata": {
            "tags": []
          }
        }
      ]
    },
    {
      "metadata": {
        "id": "tud2ey3S62oP",
        "colab_type": "code",
        "colab": {
          "base_uri": "https://localhost:8080/",
          "height": 364
        },
        "outputId": "4eaae990-7969-4eef-946d-255858d34a06"
      },
      "cell_type": "code",
      "source": [
        "z =draw_data(w)\n",
        "mx= model.noise_free(tf.constant(w))\n",
        "plt.scatter(z[0,:],z[1,:],c=w,cmap = \"plasma\",alpha=0.01)\n",
        "plt.scatter(mx[:,0],mx[:,1],c=w.flatten(),cmap = \"plasma\")\n"
      ],
      "execution_count": 104,
      "outputs": [
        {
          "output_type": "execute_result",
          "data": {
            "text/plain": [
              "<matplotlib.collections.PathCollection at 0x7f6d9bce09e8>"
            ]
          },
          "metadata": {
            "tags": []
          },
          "execution_count": 104
        },
        {
          "output_type": "display_data",
          "data": {
            "image/png": "[encoded data removed]",
            "text/plain": [
              "<matplotlib.figure.Figure at 0x7f6d9cdabf28>"
            ]
          },
          "metadata": {
            "tags": []
          }
        }
      ]
    },
    {
      "metadata": {
        "id": "3oQ35wnO7hvX",
        "colab_type": "code",
        "colab": {
          "base_uri": "https://localhost:8080/",
          "height": 164
        },
        "outputId": "4cd03b2c-d311-470e-874a-258468045a8d"
      },
      "cell_type": "code",
      "source": [
        "print (np.exp(np.unique(lv/2)))"
      ],
      "execution_count": 105,
      "outputs": [
        {
          "output_type": "error",
          "ename": "NameError",
          "evalue": "ignored",
          "traceback": [
            "\u001b[0;31m---------------------------------------------------------------------------\u001b[0m",
            "\u001b[0;31mNameError\u001b[0m                                 Traceback (most recent call last)",
            "\u001b[0;32m<ipython-input-105-16224de840e0>\u001b[0m in \u001b[0;36m<module>\u001b[0;34m()\u001b[0m\n\u001b[0;32m----> 1\u001b[0;31m \u001b[0mprint\u001b[0m \u001b[0;34m(\u001b[0m\u001b[0mnp\u001b[0m\u001b[0;34m.\u001b[0m\u001b[0mexp\u001b[0m\u001b[0;34m(\u001b[0m\u001b[0mnp\u001b[0m\u001b[0;34m.\u001b[0m\u001b[0munique\u001b[0m\u001b[0;34m(\u001b[0m\u001b[0mlv\u001b[0m\u001b[0;34m/\u001b[0m\u001b[0;36m2\u001b[0m\u001b[0;34m)\u001b[0m\u001b[0;34m)\u001b[0m\u001b[0;34m)\u001b[0m\u001b[0;34m\u001b[0m\u001b[0m\n\u001b[0m",
            "\u001b[0;31mNameError\u001b[0m: name 'lv' is not defined"
          ]
        }
      ]
    },
    {
      "metadata": {
        "id": "kTfRS6e7IpGt",
        "colab_type": "code",
        "colab": {
          "base_uri": "https://localhost:8080/",
          "height": 187
        },
        "outputId": "0bed9da2-497f-4f01-d3fc-22c25084adc8"
      },
      "cell_type": "code",
      "source": [
        "for i in range(10):\n",
        "  print (model(tf.constant(np.atleast_2d(0),dtype=tf.float32)).numpy())"
      ],
      "execution_count": 104,
      "outputs": [
        {
          "output_type": "stream",
          "text": [
            "[[ 0.55131656 -0.9478506 ]]\n",
            "[[ 0.5044454 -0.9460045]]\n",
            "[[ 0.41591138 -0.81656647]]\n",
            "[[ 0.5426252 -0.9476866]]\n",
            "[[ 0.55624676 -0.9478316 ]]\n",
            "[[ 0.50837183 -0.9473778 ]]\n",
            "[[ 0.55125654 -0.9479747 ]]\n",
            "[[ 0.84181654 -1.0212758 ]]\n",
            "[[ 0.5537389  -0.94825906]]\n",
            "[[ 0.5494041 -0.9482143]]\n"
          ],
          "name": "stdout"
        }
      ]
    },
    {
      "metadata": {
        "id": "XOhvHvGBIzEo",
        "colab_type": "code",
        "colab": {}
      },
      "cell_type": "code",
      "source": [
        ""
      ],
      "execution_count": 0,
      "outputs": []
    }
  ]
}